{
 "cells": [
  {
   "cell_type": "code",
   "execution_count": 22,
   "metadata": {},
   "outputs": [],
   "source": [
    "import matplotlib.pyplot as plt\n",
    "import numpy as np"
   ]
  },
  {
   "cell_type": "code",
   "execution_count": 33,
   "metadata": {},
   "outputs": [],
   "source": [
    "# ----- Class to manage cosine rate decay -----\n",
    "# Currently only handles new cycles from epoch boundaries\n",
    "class CosLearningRateDecay():\n",
    "    # Note: stateless after initialization\n",
    "    def __init__(self, start_epoch, stop_epoch, iters_per_epoch, max_lr, min_lr=0.0):\n",
    "        self.start_epoch = start_epoch\n",
    "#        self.start_iter = start_iter\n",
    "        self.max_lr = max_lr\n",
    "        self.min_lr = min_lr\n",
    "        self.start_iters = (start_epoch ) * iters_per_epoch\n",
    "        # spill one\n",
    "        full_epochs_remaining = stop_epoch - start_epoch# + 1\n",
    "        #this_epoch_iters_remaining = iters_per_epoch - start_iter\n",
    "        print(\"start iters: \", self.start_iters)\n",
    "        print(\"full epochs remaining: \", full_epochs_remaining)\n",
    "        #total number of iterations to be completed this cosine cycle\n",
    "        self.total_iters_this_cycle = full_epochs_remaining * iters_per_epoch #+ (this_epoch_iters_remaining - stop_iter)\n",
    "    \"\"\"\n",
    "    params:\n",
    "        total_iter: total number of iterations completed since start\n",
    "\n",
    "    formula: \n",
    "    lr_min + 0.5*(lr_max - lr_min) * (1 + cos(pi*current_total_iter/target_iter))\n",
    "    \"\"\"\n",
    "    def get_lr(self, total_iter):\n",
    "        iters_elapsed = total_iter - self.start_iters\n",
    "        #print(\"Calculating Cos LR\")\n",
    "        #print(\"Iterations elapsed this cycle: \", iters_elapsed)\n",
    "        #print(\"Total iterations to be completed this cycle: \", self.total_iters_this_cycle)\n",
    "        learning_rate = self.min_lr\n",
    "        learning_rate += 0.5*(self.max_lr - self.min_lr) * (1 + np.cos(np.pi * (iters_elapsed / self.total_iters_this_cycle)))\n",
    "        return learning_rate"
   ]
  },
  {
   "cell_type": "code",
   "execution_count": 34,
   "metadata": {},
   "outputs": [
    {
     "name": "stdout",
     "output_type": "stream",
     "text": [
      "start iters:  290000\n",
      "full epochs remaining:  10\n"
     ]
    }
   ],
   "source": [
    "start_epoch = 100\n",
    "stop_epoch = 110\n",
    "iters_per_epoch = 2900\n",
    "max_lr = 0.001\n",
    "\n",
    "cos_decay = CosLearningRateDecay(start_epoch, stop_epoch, iters_per_epoch, max_lr)\n",
    "start_iter = start_epoch*iters_per_epoch\n",
    "\n",
    "step = 200\n",
    "pts = np.arange(start_iter, stop_epoch*iters_per_epoch, step)\n",
    "lr = map(cos_decay.get_lr, pts)\n",
    "plot = pts/iters_per_epoch\n",
    "\n",
    "plt.plot(list(plot), list(lr))\n",
    "plt.xlabel('Epoch')\n",
    "plt.ylabel('Learning Rate')\n",
    "plt.title(\"10-Epoch cosine LR decay\")\n",
    "plt.savefig('10_epoch_cos_decay.png')\n",
    "plt.show()"
   ]
  },
  {
   "cell_type": "code",
   "execution_count": 35,
   "metadata": {},
   "outputs": [
    {
     "data": {
      "image/png": "[encoded data removed]",
      "text/plain": [
       "<matplotlib.figure.Figure at 0x7f08a4061358>"
      ]
     },
     "metadata": {},
     "output_type": "display_data"
    }
   ],
   "source": [
    "start_epoch = 100\n",
    "stop_epoch = 120\n",
    "iters_per_epoch = 2900\n",
    "max_lr = 0.001\n",
    "\n",
    "cos_decay = CosLearningRateDecay(start_epoch, stop_epoch, iters_per_epoch, max_lr)\n",
    "start_iter = start_epoch*iters_per_epoch\n",
    "\n",
    "step = 200\n",
    "pts = np.arange(start_iter, stop_epoch*iters_per_epoch, step)\n",
    "lr = map(cos_decay.get_lr, pts)\n",
    "plot = pts/iters_per_epoch\n",
    "\n",
    "plt.plot(list(plot), list(lr))\n",
    "plt.xlabel('Epoch')\n",
    "plt.ylabel('Learning Rate')\n",
    "plt.title(\"20-Epoch cosine LR decay\")\n",
    "plt.show()"
   ]
  },
  {
   "cell_type": "code",
   "execution_count": null,
   "metadata": {},
   "outputs": [],
   "source": []
  }
 ],
 "metadata": {
  "kernelspec": {
   "display_name": "Python 3",
   "language": "python",
   "name": "python3"
  },
  "language_info": {
   "codemirror_mode": {
    "name": "ipython",
    "version": 3
   },
   "file_extension": ".py",
   "mimetype": "text/x-python",
   "name": "python",
   "nbconvert_exporter": "python",
   "pygments_lexer": "ipython3",
   "version": "3.5.2"
  }
 },
 "nbformat": 4,
 "nbformat_minor": 2
}
