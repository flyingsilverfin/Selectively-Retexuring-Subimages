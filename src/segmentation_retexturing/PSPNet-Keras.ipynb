{
 "cells": [
  {
   "cell_type": "code",
   "execution_count": 1,
   "metadata": {},
   "outputs": [],
   "source": [
    "import sys\n",
    "import os\n",
    "sys.path.append(\"/local/scratch/js2173/pytorch/Selectively-Retexuring-Subimages/submodules/PSPNet-Keras-tensorflow\") # access submodules\n",
    "# filter out paths added by other users of server...\n",
    "sys.path = [p for p in sys.path if not p.startswith('/local/scratch') or p.startswith('/local/scratch/js2173')]"
   ]
  },
  {
   "cell_type": "code",
   "execution_count": 2,
   "metadata": {},
   "outputs": [],
   "source": [
    "os.environ[\"CUDA_VISIBLE_DEVICES\"] = '' # set to 0 to use GPU if its available"
   ]
  },
  {
   "cell_type": "code",
   "execution_count": 3,
   "metadata": {},
   "outputs": [
    {
     "name": "stderr",
     "output_type": "stream",
     "text": [
      "Using TensorFlow backend.\n"
     ]
    }
   ],
   "source": [
    "from os.path import splitext, join\n",
    "import numpy as np\n",
    "import argparse\n",
    "from scipy import misc, ndimage\n",
    "from keras import backend as K\n",
    "from keras.models import model_from_json, load_model\n",
    "import tensorflow as tf\n",
    "import layers_builder as layers\n",
    "from python_utils import utils\n",
    "from python_utils.preprocessing import preprocess_img\n",
    "\n",
    "from pspnet import PSPNet101\n"
   ]
  },
  {
   "cell_type": "code",
   "execution_count": 12,
   "metadata": {},
   "outputs": [],
   "source": [
    "pspnet_path =  '/local/scratch/js2173/pytorch/Selectively-Retexuring-Subimages/submodules/PSPNet-Keras-tensorflow'\n",
    "filename = \"epoch100_real_image.jpg\"\n",
    "input_path = join('example_images', filename)\n",
    "input_size = 512\n",
    "output_path = join('example_results', filename)\n",
    "model = \"pspnet101_cityscapes\""
   ]
  },
  {
   "cell_type": "code",
   "execution_count": 14,
   "metadata": {},
   "outputs": [
    {
     "name": "stderr",
     "output_type": "stream",
     "text": [
      "/usr/local/lib/python3.5/dist-packages/ipykernel_launcher.py:5: DeprecationWarning: `imread` is deprecated!\n",
      "`imread` is deprecated in SciPy 1.0.0, and will be removed in 1.2.0.\n",
      "Use ``imageio.imread`` instead.\n",
      "  \"\"\"\n",
      "/usr/local/lib/python3.5/dist-packages/ipykernel_launcher.py:6: DeprecationWarning: `imresize` is deprecated!\n",
      "`imresize` is deprecated in SciPy 1.0.0, and will be removed in 1.2.0.\n",
      "Use ``skimage.transform.resize`` instead.\n",
      "  \n"
     ]
    },
    {
     "name": "stdout",
     "output_type": "stream",
     "text": [
      "/local/scratch/js2173/pytorch/Selectively-Retexuring-Subimages/submodules/PSPNet-Keras-tensorflow/weights/keras/pspnet101_cityscapes.h5\n",
      "Keras model & weights found, loading...\n",
      "Predicting...\n",
      "Finished prediction...\n",
      "Writing results...\n"
     ]
    },
    {
     "name": "stderr",
     "output_type": "stream",
     "text": [
      "/usr/local/lib/python3.5/dist-packages/ipykernel_launcher.py:20: DeprecationWarning: `imsave` is deprecated!\n",
      "`imsave` is deprecated in SciPy 1.0.0, and will be removed in 1.2.0.\n",
      "Use ``imageio.imwrite`` instead.\n",
      "/usr/local/lib/python3.5/dist-packages/ipykernel_launcher.py:21: DeprecationWarning: `imsave` is deprecated!\n",
      "`imsave` is deprecated in SciPy 1.0.0, and will be removed in 1.2.0.\n",
      "Use ``imageio.imwrite`` instead.\n",
      "/usr/local/lib/python3.5/dist-packages/ipykernel_launcher.py:22: DeprecationWarning: `imsave` is deprecated!\n",
      "`imsave` is deprecated in SciPy 1.0.0, and will be removed in 1.2.0.\n",
      "Use ``imageio.imwrite`` instead.\n",
      "/usr/local/lib/python3.5/dist-packages/ipykernel_launcher.py:23: DeprecationWarning: `imsave` is deprecated!\n",
      "`imsave` is deprecated in SciPy 1.0.0, and will be removed in 1.2.0.\n",
      "Use ``imageio.imwrite`` instead.\n"
     ]
    }
   ],
   "source": [
    "sess = tf.Session()\n",
    "K.set_session(sess)\n",
    "\n",
    "with sess.as_default():\n",
    "    img = misc.imread(input_path, mode='RGB')\n",
    "    cimg = misc.imresize(img, (input_size, input_size))\n",
    "    pspnet = PSPNet101(nb_classes=19, input_shape=(713, 713), weights_name=model, weights_path=pspnet_path)\n",
    "\n",
    "\n",
    "    probs = pspnet.predict(img, flip_evaluation=False)\n",
    "\n",
    "    print(\"Writing results...\")\n",
    "    cm = np.argmax(probs, axis=2)\n",
    "    pm = np.max(probs, axis=2)\n",
    "\n",
    "    color_cm = utils.add_color(cm)\n",
    "    # color cm is [0.0-1.0] img is [0-255]\n",
    "    alpha_blended = 0.5 * color_cm * 255 + 0.5 * img\n",
    "    filename, ext = splitext(output_path)\n",
    "    misc.imsave(filename + \"_seg_read\" + ext, cm)\n",
    "    misc.imsave(filename + \"_seg\" + ext, color_cm)\n",
    "    misc.imsave(filename + \"_probs\" + ext, pm)\n",
    "    misc.imsave(filename + \"_seg_blended\" + ext, alpha_blended)\n"
   ]
  },
  {
   "cell_type": "code",
   "execution_count": 13,
   "metadata": {},
   "outputs": [
    {
     "data": {
      "text/plain": [
       "('example_results/epoch100_real_image', '.jpg')"
      ]
     },
     "execution_count": 13,
     "metadata": {},
     "output_type": "execute_result"
    }
   ],
   "source": [
    "splitext(output_path)"
   ]
  },
  {
   "cell_type": "code",
   "execution_count": null,
   "metadata": {},
   "outputs": [],
   "source": [
    "import sys\n",
    "sys.executable"
   ]
  },
  {
   "cell_type": "code",
   "execution_count": null,
   "metadata": {},
   "outputs": [],
   "source": []
  },
  {
   "cell_type": "code",
   "execution_count": null,
   "metadata": {},
   "outputs": [],
   "source": []
  }
 ],
 "metadata": {
  "kernelspec": {
   "display_name": "Python 3",
   "language": "python",
   "name": "python3"
  },
  "language_info": {
   "codemirror_mode": {
    "name": "ipython",
    "version": 3
   },
   "file_extension": ".py",
   "mimetype": "text/x-python",
   "name": "python",
   "nbconvert_exporter": "python",
   "pygments_lexer": "ipython3",
   "version": "3.5.2"
  }
 },
 "nbformat": 4,
 "nbformat_minor": 2
}
